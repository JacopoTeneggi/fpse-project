{
 "cells": [
  {
   "cell_type": "code",
   "execution_count": null,
   "metadata": {},
   "outputs": [],
   "source": [
    "import os\n",
    "import pandas as pd\n",
    "import matplotlib.pyplot as plt\n",
    "import seaborn as sns\n",
    "\n",
    "results_dir = \"./out\"\n",
    "\n",
    "sns.set_theme()\n",
    "sns.set_context(\"talk\")"
   ]
  },
  {
   "cell_type": "code",
   "execution_count": null,
   "metadata": {},
   "outputs": [],
   "source": [
    "steps = [1, 5, 25, 125, 625, 3125, 15625]\n",
    "\n",
    "df = []\n",
    "\n",
    "\n",
    "def get_results(algorithm):\n",
    "    algorithm_results_dir = os.path.join(results_dir, algorithm)\n",
    "    for step in steps:\n",
    "        step_results_dir = os.path.join(algorithm_results_dir, f\"{step}_genomes\")\n",
    "        performance_file = os.path.join(step_results_dir, \"performance.txt\")\n",
    "        with open(performance_file, \"r\") as f:\n",
    "            lines = f.readlines()\n",
    "\n",
    "            elapsed_line = lines[0].strip()\n",
    "            elapsed_string = elapsed_line.split(\" \")[-1]\n",
    "\n",
    "            minutes = int(elapsed_string.split(\":\")[0])\n",
    "            seconds = float(elapsed_string.split(\":\")[1].split(\".\")[0])\n",
    "            hundreth = float(elapsed_string.split(\":\")[1].split(\".\")[1])\n",
    "\n",
    "            time = minutes * 60 + seconds + hundreth / 100\n",
    "\n",
    "            memory_line = lines[1].strip()\n",
    "            memory_string = memory_line.split(\" \")[-1]\n",
    "\n",
    "            kbyte = int(memory_string)\n",
    "            gbyte = kbyte / 1000000\n",
    "\n",
    "            df.append(\n",
    "                {\"algorithm\": algorithm, \"step\": step, \"time\": time, \"memory\": gbyte}\n",
    "            )\n",
    "\n",
    "\n",
    "get_results(\"bwt\")\n",
    "get_results(\"sacak\")\n",
    "\n",
    "df = pd.DataFrame(df)\n",
    "_, axes = plt.subplots(1, 2, figsize=(16, 9 / 2))\n",
    "ax = axes[0]\n",
    "sns.lineplot(data=df, x=\"step\", y=\"time\", hue=\"algorithm\", ax=ax)\n",
    "ax.set_title(\"Time\")\n",
    "ax.set_xlabel(\"Step\")\n",
    "ax.set_ylabel(\"Time (s)\")\n",
    "ax.set_xscale(\"log\")\n",
    "ax.set_yscale(\"log\")\n",
    "\n",
    "ax = axes[1]\n",
    "sns.lineplot(data=df, x=\"step\", y=\"memory\", hue=\"algorithm\", ax=ax)\n",
    "ax.set_title(\"Memory\")\n",
    "ax.set_xlabel(\"Step\")\n",
    "ax.set_ylabel(\"Memory (GB)\")\n",
    "ax.set_xscale(\"log\")\n",
    "plt.show()"
   ]
  },
  {
   "cell_type": "code",
   "execution_count": null,
   "metadata": {},
   "outputs": [],
   "source": [
    "for step in steps:\n",
    "    with open(os.path.join(results_dir, \"bwt\", f\"{step}_genomes\", \"bwt\"), \"r\") as f:\n",
    "        bwt = f.read()\n",
    "    with open(os.path.join(results_dir, \"sacak\", f\"{step}_genomes\", \"bwt\"), \"r\") as f:\n",
    "        sacak = f.read()\n",
    "    assert bwt == sacak"
   ]
  },
  {
   "cell_type": "code",
   "execution_count": null,
   "metadata": {},
   "outputs": [],
   "source": []
  }
 ],
 "metadata": {
  "kernelspec": {
   "display_name": "py38",
   "language": "python",
   "name": "python3"
  },
  "language_info": {
   "codemirror_mode": {
    "name": "ipython",
    "version": 3
   },
   "file_extension": ".py",
   "mimetype": "text/x-python",
   "name": "python",
   "nbconvert_exporter": "python",
   "pygments_lexer": "ipython3",
   "version": "3.8.0"
  }
 },
 "nbformat": 4,
 "nbformat_minor": 2
}
